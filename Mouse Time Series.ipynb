{
 "cells": [
  {
   "cell_type": "code",
   "execution_count": 19,
   "metadata": {},
   "outputs": [],
   "source": [
    "import numpy as np\n",
    "import pandas as pd\n",
    "import matplotlib.pyplot as plt\n",
    "import seaborn as sns\n",
    "import scipy as scipy\n",
    "from sklearn.model_selection import LeaveOneOut\n",
    "from sklearn.neighbors import KNeighborsClassifier\n",
    "from sklearn.ensemble import RandomForestClassifier\n",
    "from sklearn.svm import SVC\n",
    "from sklearn.metrics import accuracy_score\n",
    "from sklearn.feature_selection import VarianceThreshold\n",
    "from sklearn.feature_selection import SelectKBest\n",
    "from sklearn.feature_selection import chi2\n",
    "from sklearn.model_selection import train_test_split"
   ]
  },
  {
   "cell_type": "code",
   "execution_count": 25,
   "metadata": {},
   "outputs": [],
   "source": [
    "df = pd.read_csv('mousedrinkingdatafixed.csv')\n",
    "y = df[['Label']]\n",
    "X = df.drop(columns=['Label'])\n",
    "X_train, X_test, y_train, y_test = train_test_split(X, y, random_state=1, test_size=.66)"
   ]
  },
  {
   "source": [
    "## Some Quick Thoughts:\n",
    "### Can we use a probiblistic approach for this problem? \"What is the probability that a mouse reverts from its behavior after X days. If we get very strong probibility that based in law of large numbers, a mouse will not change its behavior after X days, what is the purpose of using time series? \n",
    "### Can we use SVM where we limit mouse data at X days and see what our accuracy is? Our accuracy at 52 days should be 100% since we classified this data by hand. \n"
   ],
   "cell_type": "markdown",
   "metadata": {}
  },
  {
   "cell_type": "code",
   "execution_count": 32,
   "metadata": {},
   "outputs": [
    {
     "output_type": "execute_result",
     "data": {
      "text/plain": [
       "0.98989898989899"
      ]
     },
     "metadata": {},
     "execution_count": 32
    }
   ],
   "source": [
    "clf = SVC(kernel='linear', C=1).fit(X_train, y_train.values.ravel())\n",
    "clf.score(X_test, y_test)\n"
   ]
  },
  {
   "cell_type": "code",
   "execution_count": 55,
   "metadata": {
    "tags": []
   },
   "outputs": [],
   "source": [
    "for i in X.columns:\n",
    "    print(i)"
   ]
  },
  {
   "cell_type": "code",
   "execution_count": null,
   "metadata": {},
   "outputs": [],
   "source": []
  }
 ],
 "metadata": {
  "kernelspec": {
   "name": "python383jvsc74a57bd0ecf5722fdaf1897a315d257d89d94520bfcaa453217d5becf09b39e73618b0de",
   "display_name": "Python 3.8.3 64-bit ('base': conda)"
  },
  "language_info": {
   "name": "",
   "version": "3.8.3"
  }
 },
 "nbformat": 4,
 "nbformat_minor": 4
}