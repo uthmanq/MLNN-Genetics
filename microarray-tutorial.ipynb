{
 "metadata": {
  "language_info": {
   "codemirror_mode": {
    "name": "ipython",
    "version": 3
   },
   "file_extension": ".py",
   "mimetype": "text/x-python",
   "name": "python",
   "nbconvert_exporter": "python",
   "pygments_lexer": "ipython3",
   "version": "3.8.3"
  },
  "orig_nbformat": 2,
  "kernelspec": {
   "name": "python383jvsc74a57bd0ecf5722fdaf1897a315d257d89d94520bfcaa453217d5becf09b39e73618b0de",
   "display_name": "Python 3.8.3 64-bit (conda)"
  }
 },
 "nbformat": 4,
 "nbformat_minor": 2,
 "cells": [
  {
   "cell_type": "code",
   "execution_count": 152,
   "metadata": {},
   "outputs": [],
   "source": [
    "import numpy as np\n",
    "import pandas as pd\n",
    "import matplotlib.pyplot as plt\n",
    "import seaborn as sns\n",
    "import scipy as scipy\n",
    "from sklearn.model_selection import LeaveOneOut\n",
    "from sklearn.neighbors import KNeighborsClassifier\n",
    "from sklearn.ensemble import RandomForestClassifier\n",
    "from sklearn.svm import SVC\n",
    "from sklearn.svm import LinearSVC\n",
    "from sklearn.metrics import accuracy_score\n",
    "from sklearn.feature_selection import VarianceThreshold\n",
    "from sklearn.feature_selection import SelectKBest\n",
    "from sklearn.feature_selection import chi2\n",
    "from sklearn.feature_selection import SelectFromModel\n",
    "from sklearn.feature_selection import RFE\n",
    "from sklearn.pipeline import Pipeline\n",
    "from sklearn.decomposition import PCA\n",
    "from sklearn.feature_selection import f_regression, mutual_info_regression\n",
    "from sklearn.base import TransformerMixin, BaseEstimator\n",
    "from sklearn.feature_selection import f_classif\n",
    "\n",
    "%matplotlib inline\n",
    "# Format data into something more useable\n",
    "df = pd.read_csv('decimal-dataset.csv')\n",
    "#Y = pd.DataFrame([0,0,0,0,0,0, 2, 2, 2, 2, 2, 2])\n",
    "y = pd.DataFrame(['A','A','A','A','A','A', 'B', 'B','B', 'B', 'B', 'B'])\n",
    "\n",
    "df = df.drop(columns=['Label'])\n",
    "X = pd.DataFrame(df)"
   ]
  },
  {
   "cell_type": "code",
   "execution_count": 153,
   "metadata": {
    "tags": []
   },
   "outputs": [
    {
     "output_type": "stream",
     "name": "stdout",
     "text": [
      "A A\n",
      "A A\n",
      "A A\n",
      "B A\n",
      "B A\n",
      "A A\n",
      "A B\n",
      "B B\n",
      "B B\n",
      "B B\n",
      "B B\n",
      "B B\n"
     ]
    }
   ],
   "source": [
    "loo = LeaveOneOut()\n",
    "#X = pd.DataFrame( SelectKBest(chi2, k=35).fit_transform(X,y))\n",
    "loo.get_n_splits(X)\n",
    "\n",
    "class Debug(BaseEstimator, TransformerMixin):\n",
    "\n",
    "    def transform(self, X):\n",
    "        #print(pd.DataFrame(X).head())\n",
    "        #print(X)\n",
    "        return X\n",
    "\n",
    "    def fit(self, X, y=None, **fit_params):\n",
    "        return self\n",
    "\n",
    "for train_index, test_index in loo.split(X,y.values.ravel()):\n",
    "        X_train, X_test = X.iloc[train_index], X.iloc[test_index]\n",
    "        y_train, y_test = y.iloc[train_index], y.iloc[test_index]\n",
    "        clf = Pipeline([\n",
    "        #('variancethreshhold', VarianceThreshold()),\n",
    "        ('variationremoval', SelectKBest(chi2, k=1)),\n",
    "        ('Debug', Debug()),\n",
    "        #('PCA',PCA(n_components=2)),\n",
    "        ('classification', RandomForestClassifier())\n",
    "        ])\n",
    "        \n",
    "        #clf.fit(X_train, y_train.values.ravel())\n",
    "        #print(clf.predict(X_test))\n",
    "        clf.fit(X_train, y_train.values.ravel())\n",
    "        #print(X_train.values.ravel())\n",
    "        print(clf.predict(X_test)[0], y_test.values.ravel()[0])"
   ]
  },
  {
   "cell_type": "code",
   "execution_count": 149,
   "metadata": {},
   "outputs": [
    {
     "output_type": "stream",
     "name": "stdout",
     "text": [
      "A_51_P315466\n",
      "A_51_P315466\n",
      "A_52_P385526\n",
      "A_51_P315466\n",
      "A_52_P385526\n",
      "A_52_P385526\n",
      "A_51_P315466\n",
      "A_51_P315466\n",
      "A_51_P315466\n",
      "A_51_P315466\n",
      "A_51_P315466\n",
      "A_51_P315466\n"
     ]
    }
   ],
   "source": [
    "def kbest_selector(data, y_train, ky):\n",
    "    selector = SelectKBest(chi2, k=ky)\n",
    "    selector.fit(data, y_train)\n",
    "    return data[data.columns[selector.get_support(indices=True)]]\n",
    "\n",
    "for train_index, test_index in loo.split(X,y.values.ravel()):\n",
    "        X_train, X_test = X.iloc[train_index], X.iloc[test_index]\n",
    "        y_train, y_test = y.iloc[train_index], y.iloc[test_index]\n",
    "        print(kbest_selector(X_train,y_train,1).columns.values[0])"
   ]
  },
  {
   "cell_type": "code",
   "execution_count": null,
   "metadata": {},
   "outputs": [],
   "source": []
  }
 ]
}