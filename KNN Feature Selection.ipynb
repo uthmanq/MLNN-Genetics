{
 "cells": [
  {
   "cell_type": "markdown",
   "metadata": {},
   "source": [
    "# 36 Mice Feature Selection\n",
    "\n",
    "## Yu Lab\n",
    "### Uthman Qureshi\n",
    "### Professor Lei Yu\n",
    "\n",
    "#### Step 1:\n",
    "Importing dataset and transforming features to use in our project"
   ]
  },
  {
   "cell_type": "code",
   "execution_count": null,
   "metadata": {},
   "outputs": [],
   "source": [
    "import numpy as np\n",
    "import pandas as pd\n",
    "import matplotlib.pyplot as plt\n",
    "import seaborn as sns\n",
    "import scipy as scipy\n",
    "from sklearn.model_selection import LeaveOneOut\n",
    "from sklearn.neighbors import KNeighborsClassifier\n",
    "from sklearn.ensemble import RandomForestClassifier\n",
    "from sklearn.svm import SVC\n",
    "from sklearn.metrics import accuracy_score\n",
    "from sklearn.feature_selection import VarianceThreshold\n",
    "from sklearn.feature_selection import SelectKBest\n",
    "from sklearn.feature_selection import chi2\n",
    "\n",
    "%matplotlib inline\n",
    "# Format data into something more useable\n",
    "df = pd.read_csv('decimal-dataset.csv')\n",
    "Y = pd.DataFrame(['A','A','A','B','B','B', 'C', 'C', 'C ','D','D','D'])\n",
    "df = df.drop(columns=['Label'])"
   ]
  },
  {
   "cell_type": "code",
   "execution_count": null,
   "metadata": {
    "tags": []
   },
   "outputs": [],
   "source": [
    "sel = VarianceThreshold(threshold=(.99))\n",
    "X = pd.DataFrame(sel.fit_transform(df))\n",
    "acc = []\n",
    "features = []\n",
    "for i in range(10,200):\n",
    "    X_new = pd.DataFrame(SelectKBest(chi2, k=i).fit_transform(X, Y))\n",
    "    y = Y\n",
    "    y_true, y_pred = [],[]\n",
    "    loo = LeaveOneOut()\n",
    "    loo.get_n_splits(X)\n",
    "\n",
    "    for train_index, test_index in loo.split(X_new,y):\n",
    "        X_train, X_test = X_new.iloc[train_index], X_new.iloc[test_index]\n",
    "        y_train, y_test = y.iloc[train_index], y.iloc[test_index]\n",
    "        model = KNeighborsClassifier(1)\n",
    "        model.fit(X_train, y_train)\n",
    "        yhat = model.predict(X_test)\n",
    "        y_true.append(y_test[0])\n",
    "        y_pred.append(yhat[0])\n",
    "    accuracy = accuracy_score(y_true,y_pred)\n",
    "    acc.append(accuracy)\n",
    "    features.append(i)\n"
   ]
  },
  {
   "cell_type": "code",
   "execution_count": null,
   "metadata": {},
   "outputs": [],
   "source": [
    "fig = plt.figure(figsize=(15, 6))\n",
    "salplot = plt.subplot(1,1,1)\n",
    "plot = plt.plot(features,acc)\n",
    "salplot.set_title('Accuracy After Selecting K-Best Genes Using K-NN Algorithm with 1 Neighbor')\n",
    "salplot.set_xlabel('Selected Features (K)')\n",
    "salplot.set_ylabel('Accuracy Score')"
   ]
  },
  {
   "cell_type": "code",
   "execution_count": null,
   "metadata": {},
   "outputs": [],
   "source": [
    "print('hello')"
   ]
  },
  {
   "cell_type": "code",
   "execution_count": null,
   "metadata": {},
   "outputs": [],
   "source": []
  },
  {
   "cell_type": "code",
   "execution_count": null,
   "metadata": {},
   "outputs": [],
   "source": []
  }
 ],
 "metadata": {
  "kernelspec": {
   "name": "python378jvsc74a57bd057baa5815c940fdaff4d14510622de9616cae602444507ba5d0b6727c008cbd6",
   "display_name": "Python 3.7.8 64-bit"
  },
  "language_info": {
   "codemirror_mode": {
    "name": "ipython",
    "version": 3
   },
   "file_extension": ".py",
   "mimetype": "text/x-python",
   "name": "python",
   "nbconvert_exporter": "python",
   "pygments_lexer": "ipython3",
   "version": "3.7.8"
  },
  "metadata": {
   "interpreter": {
    "hash": "57baa5815c940fdaff4d14510622de9616cae602444507ba5d0b6727c008cbd6"
   }
  }
 },
 "nbformat": 4,
 "nbformat_minor": 4
}